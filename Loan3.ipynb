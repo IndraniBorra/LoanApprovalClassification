{
 "cells": [
  {
   "cell_type": "markdown",
   "metadata": {},
   "source": [
    "Loan Approval Classification "
   ]
  },
  {
   "cell_type": "code",
   "execution_count": null,
   "metadata": {},
   "outputs": [],
   "source": [
    "load this file into pandas data frame\n",
    "import pandas as pd\n",
    "import numpy as np\n",
    "import matplotlib.pyplot as plt\n",
    "import seaborn as sns\n",
    "import os\n",
    "import sys\n",
    "import re\n",
    "import datetime\n",
    "import time\n",
    "import math\n",
    "import random\n",
    "import warnings\n",
    "import scipy    \n",
    "import scipy.stats\n",
    "import scipy.optimize\n",
    "import scipy.spatial\n",
    "import scipy.spatial.distance\n",
    "import sc\n",
    "import sklearn\n",
    "import sklearn.cluster\n",
    "\n",
    "\n",
    "# load the data\n",
    "df = pd.read_csv('data/loan_data.csv')\n",
    "df.head()\n",
    "df.info()\n",
    "# check for missing values\n",
    "df.isnull().sum()\n",
    "# drop rows with missing values\n"
   ]
  }
 ],
 "metadata": {
  "language_info": {
   "name": "python"
  }
 },
 "nbformat": 4,
 "nbformat_minor": 2
}
