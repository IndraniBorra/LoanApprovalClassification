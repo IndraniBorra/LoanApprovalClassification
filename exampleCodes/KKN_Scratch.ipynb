{
  "nbformat": 4,
  "nbformat_minor": 0,
  "metadata": {
    "colab": {
      "provenance": []
    },
    "kernelspec": {
      "name": "python3",
      "display_name": "Python 3"
    },
    "language_info": {
      "name": "python"
    }
  },
  "cells": [
    {
      "cell_type": "code",
      "execution_count": 12,
      "metadata": {
        "id": "cUJ8aOWQ0X2X"
      },
      "outputs": [],
      "source": [
        "import numpy as np\n",
        "import pandas as pd\n",
        "from sklearn.datasets import load_wine\n",
        "from sklearn.model_selection import train_test_split\n",
        "from sklearn.neighbors import KNeighborsClassifier\n",
        "from sklearn.metrics import accuracy_score"
      ]
    },
    {
      "cell_type": "code",
      "source": [
        "# Load the Wine dataset\n",
        "data = load_wine()\n",
        "X = data.data\n",
        "y = data.target\n",
        "\n",
        "# Split the dataset into training and testing sets\n",
        "X_train, X_test, y_train, y_test = train_test_split(X, y, test_size=0.3, random_state=42)\n"
      ],
      "metadata": {
        "id": "_rVw3Jc62yCD"
      },
      "execution_count": 13,
      "outputs": []
    },
    {
      "cell_type": "code",
      "source": [
        "# Custom k-NN implementation\n",
        "class KNN:\n",
        "    def __init__(self, k=3):\n",
        "        self.k = k\n",
        "\n",
        "    def fit(self, X, y):\n",
        "        self.X_train = X\n",
        "        self.y_train = y\n",
        "\n",
        "    def predict(self, X):\n",
        "        predictions = [self._predict(x) for x in X]\n",
        "        return np.array(predictions)\n",
        "\n",
        "    def _predict(self, x):\n",
        "        # Compute distances between x and all examples in the training set\n",
        "        distances = [np.linalg.norm(x - x_train) for x_train in self.X_train]\n",
        "        # Sort by distance and return indices of the first k neighbors\n",
        "        k_indices = np.argsort(distances)[:self.k]\n",
        "        # Extract the labels of the k nearest neighbor training samples\n",
        "        k_nearest_labels = [self.y_train[i] for i in k_indices]\n",
        "        # Return the most common class label\n",
        "        most_common = np.bincount(k_nearest_labels).argmax()\n",
        "        return most_common"
      ],
      "metadata": {
        "id": "f5q2W3ZG22zY"
      },
      "execution_count": 14,
      "outputs": []
    },
    {
      "cell_type": "code",
      "source": [
        "# Sklearn k-NN\n",
        "knn_sklearn = KNeighborsClassifier(n_neighbors=3)\n",
        "knn_sklearn.fit(X_train, y_train)\n",
        "\n",
        "# Predictions\n",
        "y_pred_sklearn = knn_sklearn.predict(X_test)\n",
        "y_pred_train_sklearn = knn_sklearn.predict(X_train)\n",
        "\n",
        "# Print accuracy\n",
        "print(\"Sklearn k-NN Test Accuracy:\", accuracy_score(y_test, y_pred_sklearn))\n",
        "print(\"Sklearn k-NN Train Accuracy:\", accuracy_score(y_train, y_pred_train_sklearn))"
      ],
      "metadata": {
        "colab": {
          "base_uri": "https://localhost:8080/"
        },
        "id": "JBQE-I-B25XH",
        "outputId": "da52ead6-82ec-4368-9fb8-89efb82b8c78"
      },
      "execution_count": 15,
      "outputs": [
        {
          "output_type": "stream",
          "name": "stdout",
          "text": [
            "Sklearn k-NN Test Accuracy: 0.7407407407407407\n",
            "Sklearn k-NN Train Accuracy: 0.8387096774193549\n"
          ]
        }
      ]
    },
    {
      "cell_type": "code",
      "source": [
        "# Let us now try K = 1 -> Over Fitting\n",
        "# Custom k-NN\n",
        "knn_custom = KNN(k=1)\n",
        "knn_custom.fit(X_train, y_train)\n",
        "\n",
        "# Predictions\n",
        "y_pred_custom = knn_custom.predict(X_test)\n",
        "y_pred_train_custom = knn_custom.predict(X_train)\n",
        "\n",
        "# Print accuracy\n",
        "print(\"Trying k = 1:\" + str(accuracy_score(y_train, y_pred_train_custom)) + \" which is over fitting\")\n",
        "print(\"Custom k-NN Test Accuracy:\", accuracy_score(y_test, y_pred_custom))\n",
        "print(\"Custom k-NN Train Accuracy:\", accuracy_score(y_train, y_pred_train_custom))"
      ],
      "metadata": {
        "colab": {
          "base_uri": "https://localhost:8080/"
        },
        "id": "Pt1BdiaA28tA",
        "outputId": "0901308b-85da-4442-e784-81fbfdf1d4a1"
      },
      "execution_count": 16,
      "outputs": [
        {
          "output_type": "stream",
          "name": "stdout",
          "text": [
            "Trying k = 1:1.0 which is over fitting\n",
            "Custom k-NN Test Accuracy: 0.7962962962962963\n",
            "Custom k-NN Train Accuracy: 1.0\n"
          ]
        }
      ]
    },
    {
      "cell_type": "code",
      "source": [
        "# Let us now try K = 100 -> under Fitting\n",
        "# Custom k-NN\n",
        "knn_custom = KNN(k=100)\n",
        "knn_custom.fit(X_train, y_train)\n",
        "\n",
        "# Predictions\n",
        "y_pred_custom = knn_custom.predict(X_test)\n",
        "y_pred_train_custom = knn_custom.predict(X_train)\n",
        "\n",
        "# Print accuracy\n",
        "print(\"Trying k = 100:\" + str(accuracy_score(y_train, y_pred_train_custom)) + \" which is under fitting\")\n",
        "print(\"Custom k-NN Test Accuracy:\", accuracy_score(y_test, y_pred_custom))\n",
        "print(\"Custom k-NN Train Accuracy:\", accuracy_score(y_train, y_pred_train_custom))"
      ],
      "metadata": {
        "colab": {
          "base_uri": "https://localhost:8080/"
        },
        "id": "EMMF91yQ3i20",
        "outputId": "0b6c2dbc-b2b4-4eb1-b025-5d2a44562018"
      },
      "execution_count": 17,
      "outputs": [
        {
          "output_type": "stream",
          "name": "stdout",
          "text": [
            "Trying k = 100:0.6370967741935484 which is under fitting\n",
            "Custom k-NN Test Accuracy: 0.7037037037037037\n",
            "Custom k-NN Train Accuracy: 0.6370967741935484\n"
          ]
        }
      ]
    },
    {
      "cell_type": "code",
      "source": [
        "# Let us now try K = 5 -> Good Fit\n",
        "# Custom k-NN\n",
        "knn_custom = KNN(k=2)\n",
        "knn_custom.fit(X_train, y_train)\n",
        "\n",
        "# Predictions\n",
        "y_pred_custom = knn_custom.predict(X_test)\n",
        "y_pred_train_custom = knn_custom.predict(X_train)\n",
        "\n",
        "# Print accuracy\n",
        "print(\"Trying k = 5:\" + str(accuracy_score(y_train, y_pred_train_custom)) + \" which is Good fit\")\n",
        "print(\"Custom k-NN Test Accuracy:\", accuracy_score(y_test, y_pred_custom))\n",
        "print(\"Custom k-NN Train Accuracy:\", accuracy_score(y_train, y_pred_train_custom))"
      ],
      "metadata": {
        "colab": {
          "base_uri": "https://localhost:8080/"
        },
        "id": "LoahZFRY42fP",
        "outputId": "45e6e14a-9e8d-4528-bc87-45df9f5160b9"
      },
      "execution_count": 26,
      "outputs": [
        {
          "output_type": "stream",
          "name": "stdout",
          "text": [
            "Trying k = 5:0.8548387096774194 which is Good fit\n",
            "Custom k-NN Test Accuracy: 0.7037037037037037\n",
            "Custom k-NN Train Accuracy: 0.8548387096774194\n"
          ]
        }
      ]
    },
    {
      "cell_type": "code",
      "source": [
        "# Create a comparison table\n",
        "results = {\n",
        "    'Model': ['Sklearn k-NN', 'Custom k-NN'],\n",
        "    'Train Accuracy': [accuracy_score(y_train, y_pred_train_sklearn), accuracy_score(y_train, y_pred_train_custom)],\n",
        "    'Test Accuracy': [accuracy_score(y_test, y_pred_sklearn), accuracy_score(y_test, y_pred_custom)]\n",
        "}\n",
        "\n",
        "comparison_table = pd.DataFrame(results)\n",
        "\n",
        "# Display the comparison table\n",
        "print(comparison_table)"
      ],
      "metadata": {
        "colab": {
          "base_uri": "https://localhost:8080/"
        },
        "id": "0TZz0Gil4YEa",
        "outputId": "81e7c027-9de2-4c1d-d674-a4338f850cb2"
      },
      "execution_count": 19,
      "outputs": [
        {
          "output_type": "stream",
          "name": "stdout",
          "text": [
            "          Model  Train Accuracy  Test Accuracy\n",
            "0  Sklearn k-NN        0.838710       0.740741\n",
            "1   Custom k-NN        0.774194       0.740741\n"
          ]
        }
      ]
    }
  ]
}